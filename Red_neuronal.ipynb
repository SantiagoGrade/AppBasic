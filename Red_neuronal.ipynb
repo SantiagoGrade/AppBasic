{
  "nbformat": 4,
  "nbformat_minor": 0,
  "metadata": {
    "colab": {
      "provenance": [],
      "authorship_tag": "ABX9TyNyCmLOszrNZn82sEPC9+mp",
      "include_colab_link": true
    },
    "kernelspec": {
      "name": "python3",
      "display_name": "Python 3"
    },
    "language_info": {
      "name": "python"
    }
  },
  "cells": [
    {
      "cell_type": "markdown",
      "metadata": {
        "id": "view-in-github",
        "colab_type": "text"
      },
      "source": [
        "<a href=\"https://colab.research.google.com/github/SantiagoGrade/AppBasic/blob/main/Red_neuronal.ipynb\" target=\"_parent\"><img src=\"https://colab.research.google.com/assets/colab-badge.svg\" alt=\"Open In Colab\"/></a>"
      ]
    },
    {
      "cell_type": "code",
      "execution_count": null,
      "metadata": {
        "id": "gMp8xUz6bzbt"
      },
      "outputs": [],
      "source": [
        "import tensorflow as tf\n",
        "import numpy as np"
      ]
    },
    {
      "cell_type": "code",
      "source": [
        "celsius = np.array([-42, -40, -37, -35, -33, -30, -28, -25, -22, -20, -15, -12, -8, -5, -3, -1, 0, 1, 3, 5, 8, 12, 15, 20, 22, 25, 28, 30, 33, 35, 37, 40, 42], dtype=float)\n",
        "fahrenheit = np.array([-43.6, -40, -34.6, -31, -27.4, -22, -18.4, -13, -7.6, -4, 5, 10.4, 17.6, 23, 26.6, 30.2, 32, 33.8, 37.4, 41, 46.4, 53.6, 59, 68, 71.6, 77, 82.4, 86, 91.4, 95, 98.6, 104, 107.6], dtype=float)"
      ],
      "metadata": {
        "id": "1fbrsAI5b_h-"
      },
      "execution_count": null,
      "outputs": []
    },
    {
      "cell_type": "code",
      "source": [
        "capa = tf.keras.layers.Dense(units=4, input_shape=[1])\n",
        "capa2 = tf.keras.layers.Dense(units=4, input_shape=[1])\n",
        "oculta1 = tf.keras.layers.Dense(units=4, input_shape=[1])\n",
        "oculta2 = tf.keras.layers.Dense(units=4, input_shape=[1])\n",
        "oculta3 = tf.keras.layers.Dense(units=4, input_shape=[1])\n",
        "\n",
        "salida = tf.keras.layers.Dense(units=1)\n",
        "modelo = tf.keras.Sequential([capa, capa2, oculta1, oculta2, oculta3, salida])"
      ],
      "metadata": {
        "id": "ERvGAEv1cTtV"
      },
      "execution_count": null,
      "outputs": []
    },
    {
      "cell_type": "code",
      "source": [
        "modelo.compile(\n",
        "    optimizer=tf.keras.optimizers.Adam(0.001),\n",
        "    loss=\"mean_squared_error\"\n",
        ")"
      ],
      "metadata": {
        "id": "1X4xSDJvcndO"
      },
      "execution_count": null,
      "outputs": []
    },
    {
      "cell_type": "code",
      "source": [
        "print(\"comenzando entrenamiento...\")\n",
        "historial = modelo.fit(celsius, fahrenheit, epochs=1000,verbose=False)\n",
        "print(\"entrenada\")"
      ],
      "metadata": {
        "colab": {
          "base_uri": "https://localhost:8080/"
        },
        "id": "zlXUCEURc6BO",
        "outputId": "cef895cb-1b06-441b-dfbe-162aae896785"
      },
      "execution_count": null,
      "outputs": [
        {
          "output_type": "stream",
          "name": "stdout",
          "text": [
            "comenzando entrenamiento...\n",
            "entrenada\n"
          ]
        }
      ]
    },
    {
      "cell_type": "code",
      "source": [
        "import matplotlib.pyplot as plt\n",
        "plt.xlabel(\"$ Epoca\")\n",
        "plt.ylabel(\"Magnitud de perdida\")\n",
        "plt.plot(historial.history[\"loss\"])"
      ],
      "metadata": {
        "colab": {
          "base_uri": "https://localhost:8080/",
          "height": 467
        },
        "id": "qsAX437cdLL4",
        "outputId": "82c01c5a-83b0-406a-b519-eb1b937c7b8a"
      },
      "execution_count": null,
      "outputs": [
        {
          "output_type": "execute_result",
          "data": {
            "text/plain": [
              "[<matplotlib.lines.Line2D at 0x7f1d5d20c790>]"
            ]
          },
          "metadata": {},
          "execution_count": 17
        },
        {
          "output_type": "display_data",
          "data": {
            "text/plain": [
              "<Figure size 640x480 with 1 Axes>"
            ],
            "image/png": "[encoded data removed]"
          },
          "metadata": {}
        }
      ]
    },
    {
      "cell_type": "code",
      "source": [
        "print(\"Hagamos una prediccion\")\n",
        "resultado = modelo.predict([-85.6])\n",
        "print(\"El resultado es \"+ str(resultado)+ \" fahrenheit\")"
      ],
      "metadata": {
        "colab": {
          "base_uri": "https://localhost:8080/"
        },
        "id": "i4zze71wdnOQ",
        "outputId": "173ca771-6452-4500-ee8c-cb88849f1c65"
      },
      "execution_count": null,
      "outputs": [
        {
          "output_type": "stream",
          "name": "stdout",
          "text": [
            "Hagamos una prediccion\n",
            "1/1 [==============================] - 0s 212ms/step\n",
            "El resultado es [[-122.08001]] fahrenheit\n"
          ]
        }
      ]
    },
    {
      "cell_type": "code",
      "source": [
        "print(\"variables internas del modelo\")\n",
        "#print(capa.get_weights())\n",
        "print(oculta1.get_weights())\n",
        "print(oculta2.get_weights())\n",
        "print(salida.get_weights())"
      ],
      "metadata": {
        "id": "VoBfrn_id5JO"
      },
      "execution_count": null,
      "outputs": []
    }
  ]
}